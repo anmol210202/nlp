{
  "cells": [
    {
      "cell_type": "code",
      "execution_count": 9,
      "metadata": {
        "colab": {
          "base_uri": "https://localhost:8080/"
        },
        "id": "FVULM7JijwQf",
        "outputId": "721d5f7c-fbba-4fd0-f05b-0ff7a06df7f2"
      },
      "outputs": [
        {
          "name": "stderr",
          "output_type": "stream",
          "text": [
            "[nltk_data] Downloading package omw-1.4 to C:\\Users\\Anmol\n",
            "[nltk_data]     Singh\\AppData\\Roaming\\nltk_data...\n",
            "[nltk_data]   Package omw-1.4 is already up-to-date!\n",
            "[nltk_data] Downloading package stopwords to C:\\Users\\Anmol\n",
            "[nltk_data]     Singh\\AppData\\Roaming\\nltk_data...\n",
            "[nltk_data]   Package stopwords is already up-to-date!\n",
            "[nltk_data] Downloading package punkt to C:\\Users\\Anmol\n",
            "[nltk_data]     Singh\\AppData\\Roaming\\nltk_data...\n",
            "[nltk_data]   Package punkt is already up-to-date!\n",
            "[nltk_data] Downloading package wordnet to C:\\Users\\Anmol\n",
            "[nltk_data]     Singh\\AppData\\Roaming\\nltk_data...\n",
            "[nltk_data]   Package wordnet is already up-to-date!\n"
          ]
        },
        {
          "data": {
            "text/plain": [
              "True"
            ]
          },
          "execution_count": 9,
          "metadata": {},
          "output_type": "execute_result"
        }
      ],
      "source": [
        "import nltk\n",
        "from nltk.corpus import wordnet as wn\n",
        "from nltk.stem.wordnet import WordNetLemmatizer\n",
        "from nltk.stem import PorterStemmer\n",
        "from nltk.corpus import stopwords\n",
        "from nltk.tokenize import word_tokenize\n",
        "from vaderSentiment.vaderSentiment import SentimentIntensityAnalyzer\n",
        "import matplotlib.pyplot as plt\n",
        "from nrclex import NRCLex\n",
        "from gensim.models import Word2Vec\n",
        "# import tensorflow as tf\n",
        "# from tensorflow.keras.preprocessing.text import Tokenizer\n",
        "import pandas as pd\n",
        "nltk.download('omw-1.4')\n",
        "nltk.download('stopwords')\n",
        "nltk.download('punkt')\n",
        "nltk.download('wordnet')"
      ]
    },
    {
      "cell_type": "code",
      "execution_count": 10,
      "metadata": {
        "id": "i16St-ABHq6K"
      },
      "outputs": [],
      "source": [
        "import re\n",
        "with open('output.txt', 'r') as f:\n",
        "    text = f.read()\n",
        "    string = str(text)\n"
      ]
    },
    {
      "cell_type": "markdown",
      "metadata": {
        "id": "EqeQygBPnWxP"
      },
      "source": [
        "Divide the Script into Scenes"
      ]
    },
    {
      "cell_type": "code",
      "execution_count": 25,
      "metadata": {},
      "outputs": [],
      "source": [
        "# read csv file and convert to dataframe and print first 5 rows\n",
        "def read_csv_file():\n",
        "    df = pd.read_csv('movie_scripts_new.csv', encoding='utf-8')\n",
        "    return df\n",
        "movies = read_csv_file()"
      ]
    },
    {
      "cell_type": "code",
      "execution_count": 26,
      "metadata": {
        "id": "XCHvn9AGnUkq"
      },
      "outputs": [],
      "source": [
        "def arr_scence(string):\n",
        "    arr = [string.start() for string in re.finditer('INT.', string)]\n",
        "    arr = arr + [string.start() for string in re.finditer('EXT.', string)]\n",
        "    arr.sort()\n",
        "    scene = []\n",
        "    for i in range(0,len(arr)):\n",
        "        if i == 0:\n",
        "            scene.append(string[0:arr[i]])\n",
        "        else:\n",
        "            scene.append(string[arr[i-1]:arr[i]])\n",
        "\n",
        "    return scene"
      ]
    },
    {
      "cell_type": "code",
      "execution_count": 37,
      "metadata": {},
      "outputs": [
        {
          "data": {
            "text/plain": [
              "1175"
            ]
          },
          "execution_count": 37,
          "metadata": {},
          "output_type": "execute_result"
        }
      ],
      "source": []
    },
    {
      "cell_type": "markdown",
      "metadata": {
        "id": "Dz0NOGJilMvY"
      },
      "source": [
        "Cleaning the script\n"
      ]
    },
    {
      "cell_type": "code",
      "execution_count": 43,
      "metadata": {
        "id": "iEV3jXDrkq0F"
      },
      "outputs": [],
      "source": [
        "\n",
        "moviesCleaned = []\n",
        "\n",
        "x = len(movies)\n",
        "for i in range(0, 30):\n",
        "    token_arr = []\n",
        "    for scene in arr_scence(str(movies['script'][i])):\n",
        "        text = re.sub(r'\\[[0-9]*\\]', ' ', scene)\n",
        "        text = re.sub(r'\\s+', ' ', text)\n",
        "        text = text.lower()\n",
        "        text = re.sub(r'\\d', ' ', text)\n",
        "        text = re.sub('(\\\\b[A-Za-z] \\\\b|\\\\b [A-Za-z]\\\\b)', '', text)\n",
        "        text = re.sub('\\W+',' ', text )\n",
        "        text = word_tokenize(text)\n",
        "        scene = []\n",
        "        for word in text:\n",
        "            if word not in stopwords.words('english'):\n",
        "                scene.append(word)\n",
        "                \n",
        "        token_arr.append(scene)\n",
        "    moviesCleaned.append(token_arr)"
      ]
    },
    {
      "cell_type": "code",
      "execution_count": 49,
      "metadata": {},
      "outputs": [
        {
          "name": "stdout",
          "output_type": "stream",
          "text": [
            "['quentin', 'tarantino', 'october', 'movie', 'dedicated', 'following', 'source', 'inspiration', 'timothy', 'carey', 'roger', 'corman', 'andre', 'detoth', 'chow', 'yuen', 'fat', 'jean', 'luc', 'goddard', 'jean', 'pierre', 'melville', 'lawrence', 'tierney', 'lionel', 'white', 'reservoir', 'dog']\n"
          ]
        }
      ],
      "source": [
        "print(moviesCleaned[0][0])"
      ]
    },
    {
      "cell_type": "markdown",
      "metadata": {
        "id": "p2gi0z9Mk0rR"
      },
      "source": [
        "Lemmatization"
      ]
    },
    {
      "cell_type": "code",
      "execution_count": 50,
      "metadata": {
        "id": "jWR3_MRfjY5X"
      },
      "outputs": [],
      "source": [
        "movieCount = 30\n",
        "def lemmatize_words(words):\n",
        "    lemmatizer = WordNetLemmatizer()\n",
        "    lemmatized_words = []\n",
        "    for word in words:\n",
        "        lemmatized_words.append(lemmatizer.lemmatize(word))\n",
        "    return lemmatized_words\n",
        "for i in range(0, movieCount):\n",
        "    token_arr2 = []\n",
        "    for token in moviesCleaned[i]:\n",
        "        token_arr2.append(lemmatize_words(token))\n",
        "        \n",
        "    moviesCleaned[i] = token_arr2\n",
        "    \n",
        "    "
      ]
    },
    {
      "cell_type": "code",
      "execution_count": 51,
      "metadata": {},
      "outputs": [
        {
          "name": "stdout",
          "output_type": "stream",
          "text": [
            "['quentin', 'tarantino', 'october', 'movie', 'dedicated', 'following', 'source', 'inspiration', 'timothy', 'carey', 'roger', 'corman', 'andre', 'detoth', 'chow', 'yuen', 'fat', 'jean', 'luc', 'goddard', 'jean', 'pierre', 'melville', 'lawrence', 'tierney', 'lionel', 'white', 'reservoir', 'dog']\n"
          ]
        }
      ],
      "source": [
        "print(moviesCleaned[0][0])"
      ]
    },
    {
      "cell_type": "markdown",
      "metadata": {
        "id": "FQpuJ3jJlfSK"
      },
      "source": [
        "Stemming"
      ]
    },
    {
      "cell_type": "code",
      "execution_count": 52,
      "metadata": {
        "id": "WtfdmIqHldGR"
      },
      "outputs": [],
      "source": [
        "def stem_words(words):\n",
        "    stemmer = PorterStemmer()\n",
        "    stemmed_words = []\n",
        "    for word in words:\n",
        "        stemmed_words.append(stemmer.stem(word))\n",
        "    return stemmed_words\n",
        "dicts = []\n",
        "for i in range(0, movieCount):\n",
        "    token_arr2 = []\n",
        "    for token in moviesCleaned[i]:\n",
        "        token = stem_words(token)\n",
        "        token_arr2.append(token)\n",
        "    moviesCleaned[i] = token_arr2\n",
        "\n",
        "    token_dictionary = {}\n",
        "    i=1\n",
        "    for token in moviesCleaned[i]:\n",
        "        for word in token:\n",
        "            if word not in token_dictionary:\n",
        "                token_dictionary[word] = i\n",
        "                i+=1\n",
        "    dicts.append(token_dictionary)"
      ]
    },
    {
      "cell_type": "code",
      "execution_count": 53,
      "metadata": {},
      "outputs": [
        {
          "name": "stdout",
          "output_type": "stream",
          "text": [
            "{'script': 1, 'cut': 2, 'black': 3, 'title': 4, 'fin': 5, 'exterior': 6, 'la': 7, 'day': 8, 'red': 9, 'chevy': 10, 'impala': 11, 'convertible': 12, 'driving': 13, 'somewhere': 14, 'west': 15, 'car': 16, 'pas': 17, 'going': 18, 'way': 19, 'place': 20, 'los': 21, 'angeles': 22, 'music': 23, 'shadowy': 24, 'men': 25, 'planet': 26, 'good': 27, 'cop': 28, 'bad': 29, 'pov': 30, 'freeway': 31, 'rain': 32, 'people': 33, 'umbrella': 34, 'standing': 35, 'corner': 36, 'walking': 37, 'bridge': 38, 'walk': 39, 'across': 40, 'downtown': 41, 'intersection': 42, 'bus': 43, 'background': 44, 'shadow': 45, 'pavement': 46, 'river': 47, 'wide': 48, 'medium': 49, 'close': 50, 'see': 51, 'graffiti': 52, 'swamped': 53, 'high': 54, 'water': 55, 'large': 56, 'man': 57, 'hear': 58, 'thunder': 59, 'stop': 60, 'first': 61, 'woman': 62, 'one': 63, 'year': 64, 'lived': 65, 'earthquake': 66, 'fire': 67, 'flood': 68, 'second': 69, 'keep': 70, 'coming': 71, 'hillside': 72, 'get': 73, 'work': 74, 'mess': 75, 'wind': 76, 'reversed': 77, 'family': 78, 'child': 79, 'protected': 80, 'plastic': 81, 'bag': 82, 'third': 83, 'survive': 84, 'natural': 85, 'instinct': 86, 'go': 87, 'flow': 88, 'sfx': 89, 'foot': 90, 'stepping': 91, 'swollen': 92, 'gutter': 93, 'restarts': 94, 'prow': 95, 'buttress': 96, 'rapid': 97, 'stopped': 98, 'remain': 99, 'beach': 100, 'evening': 101, 'wave': 102, 'breaking': 103, 'ocean': 104, 'night': 105, 'tanker': 106, 'airport': 107, 'airplane': 108, 'light': 109, 'come': 110, 'landing': 111, 'jet': 112, 'passing': 113, 'overhead': 114, 'camera': 115, 'pan': 116, 'city': 117, 'panning': 118, 'converge': 119, 'tony': 120, 'handsome': 121, 'melrose': 122, 'approach': 123, 'blocked': 124, 'truck': 125, 'flash': 126, 'headlight': 127, 'signaling': 128, 'move': 129, 'let': 130, 'stuck': 131, 'allen': 132, 'stout': 133, 'comedian': 134, 'temp': 135, 'job': 136, 'answering': 137, 'phone': 138, 'talk': 139, 'show': 140, 'host': 141, 'v': 142, 'back': 143, 'interpreting': 144, 'dream': 145, 'believe': 146, 'hollywood': 147, 'line': 148, 'hello': 149, 'hold': 150, 'okay': 151, 'yeah': 152, 'take': 153, 'care': 154, 'transferring': 155, 'live': 156, 'air': 157, 'got': 158, 'somebody': 159, 'else': 160, 'transfer': 161, 'might': 162, 'aside': 163, 'big': 164, 'island': 165, 'float': 166, 'sparkling': 167, 'radio': 168, 'filtered': 169, 'small': 170, 'speaker': 171, 'old': 172, 'oh': 173, 'doctor': 174, 'ranch': 175, 'house': 176, 'rooftop': 177, 'building': 178, 'sound': 179, 'plane': 180, 'flying': 181, 'voice': 182, 'stand': 183, 'isolated': 184, 'dry': 185, 'valley': 186, 'insert': 187, 'view': 188, 'use': 189, 'real': 190, 'name': 191, 'interior': 192, 'marie': 193, 'noel': 194, 'sitting': 195, 'front': 196, 'mirror': 197, 'putting': 198, 'makeup': 199, 'listening': 200, 'broadcast': 201, 'pay': 202, 'attention': 203, 'say': 204, 'word': 205, 'invisible': 206, 'speaks': 207, 'flatly': 208, 'angrily': 209, 'looking': 210, 'almost': 211, 'every': 212, 'listens': 213, 'carefully': 214, 'yes': 215, 'lake': 216, 'throwing': 217, 'bouquet': 218, 'wedding': 219, 'next': 220, 'thing': 221, 'know': 222, 'getting': 223, 'married': 224, 'look': 225, 'conversation': 226, 'affirms': 227, 'something': 228, 'true': 229, 'long': 230, 'like': 231, 'entire': 232, 'solid': 233, 'month': 234, 'uh': 235, 'huh': 236, 'harbor': 237, 'wipe': 238, 'frame': 239, 'along': 240, 'highway': 241, 'leisurely': 242, 'pace': 243, 'sudden': 244, 'road': 245, 'interrupt': 246, 'telephone': 247, 'ring': 248, 'feel': 249, 'point': 250, 'side': 251, 'street': 252, 'around': 253, 'gridlock': 254, 'actually': 255, 'office': 256, 'trying': 257, 'juggle': 258, 'many': 259, 'try': 260, 'incoming': 261, 'call': 262, 'without': 263, 'losing': 264, 'two': 265, 'great': 266, 'fix': 267, 'tire': 268, 'mercedes': 269, 'stoop': 270, 'face': 271, 'awareness': 272, 'hi': 273, 'sorry': 274, 'time': 275, 'put': 276, 'really': 277, 'knowing': 278, 'even': 279, 'driver': 280, 'fixed': 281, 'flat': 282, 'flick': 283, 'ear': 284, 'tease': 285, 'test': 286, 'invisibility': 287, 'ride': 288, 'town': 289, 'risen': 290, 'peak': 291, 'energy': 292, 'mean': 293, 'note': 294, 'discontinuity': 295, 'glass': 296, 'disappear': 297, 'hand': 298, 'turn': 299, 'colleague': 300, 'languishes': 301, 'juice': 302, 'commercial': 303, 'spokesman': 304, 'company': 305, 'baske': 306, 'robbins': 307, 'avail': 308, 'couple': 309, 'beer': 310, 'another': 311, 'foreground': 312, 'pick': 313, 'dr': 314, 'powell': 315, 'continues': 316, 'shortcut': 317, 'suburban': 318, 'neighborhood': 319, 'think': 320, 'running': 321, 'blvd': 322, 'creature': 323, 'surround': 324, 'make': 325, 'fake': 326, 'middle': 327, 'head': 328, 'toward': 329, 'beyond': 330, 'feeling': 331, 'left': 332, 'telling': 333, 'enters': 334, 'pa': 335, 'neither': 336, 'notice': 337, 'pull': 338, 'either': 339, 'run': 340, 'jump': 341, 'joyfully': 342, 'speed': 343, 'strange': 344, 'happens': 345, 'living': 346, 'actor': 347, 'limbo': 348, 'daily': 349, 'life': 350, 'must': 351, 'want': 352, 'finish': 353, 'please': 354, 'mike': 355, 'downey': 356, 'thank': 357, 'much': 358, 'calling': 359, 'start': 360, 'sunrise': 361, 'distant': 362, 'mountain': 363, 'silhouetted': 364, 'morning': 365, 'distance': 366, 'visible': 367, 'speck': 368, 'fly': 369, 'sun': 370, 'rise': 371, 'opening': 372, 'cadence': 373, 'mozart': 374, 'symphony': 375, 'grows': 376, 'faint': 377, 'park': 378, 'playing': 379, 'field': 380, 'behind': 381, 'fearfully': 382, 'evan': 383, 'lurie': 384, 'deception': 385, 'came': 386, 'credit': 387, 'arrive': 388, 'bench': 389, 'sit': 390, 'top': 391, 'resting': 392, 'waiting': 393, 'home': 394, 'wait': 395, 'stink': 396, 'towards': 397, 'palace': 398, 'brenda': 399, 'door': 400, 'concert': 401, 'wawa': 402, 'guitar': 403, 'burst': 404, 'inside': 405, 'unopened': 406, 'murderous': 407, 'wild': 408, 'hair': 409, 'hot': 410, 'pant': 411, 'halloween': 412, 'party': 413, 'wander': 414, 'separately': 415, 'costumed': 416, 'hipster': 417, 'sway': 418, 'react': 419, 'horror': 420, 'unseen': 421, 'occurs': 422, 'cause': 423, 'crowd': 424, 'panic': 425, 'sheep': 426, 'empty': 427, 'hall': 428, 'scratch': 429, 'blaming': 430, 'karma': 431, 'die': 432, 'wish': 433, 'give': 434, 'nothing': 435, 'happened': 436, 'u': 437, 'probably': 438, 'boat': 439, 'adjacent': 440, 'fast': 441, 'suddenly': 442, 'clear': 443, 'perplexed': 444, 'laugh': 445, 'urgently': 446, 'wooded': 447, 'section': 448, 'louder': 449, 'closer': 450, 'grab': 451, 'arm': 452, 'fearful': 453, 'incident': 454, 'past': 455, 'still': 456, 'odd': 457, 'occurrence': 458, 'continue': 459, 'fog': 460, 'naive': 461, 'century': 462, 'thicker': 463, 'sign': 464, 'wilshire': 465, 'thick': 466, 'saved': 467, 'silhouette': 468, 'tell': 469, 'premonition': 470, 'worst': 471, 'said': 472, 'band': 473, 'totally': 474, 'engulfed': 475, 'warning': 476, 'beside': 477, 'tree': 478, 'horrified': 479, 'bedroom': 480, 'wake': 481, 'sits': 482, 'bed': 483, 'machine': 484, 'baby': 485, 'source': 486, 'outside': 487, 'right': 488, 'leave': 489, 'message': 490, 'soon': 491, 'minute': 492, 'quite': 493, 'awake': 494, 'end': 495, 'melodramatically': 496, 'someone': 497, 'important': 498, 'knapp': 499, 'communication': 500, 'number': 501, 'hang': 502, 'hate': 503, 'bye': 504, 'beep': 505, 'hit': 506, 'pillow': 507, 'clip': 508, 'scorcese': 509, 'keitel': 510, 'satisfied': 511, 'scene': 512, 'pizza': 513, 'elbow': 514, 'alan': 515, 'apartment': 516, 'dolly': 517, 'pickup': 518, 'filled': 519, 'shopping': 520, 'cart': 521, 'loading': 522, 'reach': 523, 'loud': 524, 'eugene': 525, 'homeless': 526, 'away': 527, 'confusion': 528, 'deodorant': 529, 'rubbing': 530, 'eye': 531, 'director': 532, 'silence': 533, 'bach': 534, 'well': 535, 'tempered': 536, 'clavier': 537, 'rack': 538, 'focus': 539, 'moon': 540, 'dark': 541, 'smoking': 542, 'cigarette': 543, 'despair': 544, 'shape': 545, 'hurt': 546, 'body': 547, 'seeing': 548, 'continuity': 549, 'tragic': 550, 'loss': 551, 'half': 552, 'sister': 553, 'speaking': 554, 'hopeless': 555, 'hr': 556, 'gas': 557, 'station': 558, 'aimlessly': 559, 'clue': 560, 'pattern': 561, 'writes': 562, 'desk': 563, 'blow': 564, 'open': 565, 'window': 566, 'endless': 567, 'coincidence': 568, 'exhausted': 569, 'option': 570, 'event': 571, 'slowly': 572, 'unfold': 573, 'possibility': 574, 'patience': 575, 'become': 576, 'accidental': 577, 'waste': 578, 'exactly': 579, 'mom': 580, 'position': 581, 'always': 582, 'sexual': 583, 'fate': 584, 'deserve': 585, 'dad': 586, 'motive': 587, 'eclipse': 588, 'selfish': 589, 'filmore': 590, 'procreate': 591, 'breathes': 592, 'sigh': 593, 'interviewer': 594, 'guy': 595, 'yard': 596, 'squint': 597, 'bright': 598, 'news': 599, 'girl': 600, 'related': 601, 'greek': 602, 'railroad': 603, 'track': 604, 'lose': 605, 'everything': 606, 'worked': 607, 'last': 608, 'inheritance': 609, 'sidewalk': 610, 'busy': 611, 'flipping': 612, 'coin': 613, 'set': 614, 'prove': 615, 'chance': 616, 'country': 617, 'grassy': 618, 'vortex': 619, 'oak': 620, 'leaf': 621, 'swirling': 622, 'disturbed': 623, 'young': 624, 'found': 625, 'act': 626, 'interview': 627, 'started': 628, 'met': 629, 'elevator': 630, 'casting': 631, 'late': 632, 'wearing': 633, 'sunglass': 634, 'excuse': 635, 'wider': 636, 'working': 637, 'rainy': 638, 'sky': 639, 'palm': 640, 'raining': 641, 'everybody': 642, 'jittery': 643, 'nature': 644, 'usually': 645, 'happen': 646, 'except': 647, 'occasional': 648, 'rare': 649, 'winter': 650, 'snowstorm': 651, 'ten': 652, 'twenty': 653, 'happy': 654, 'free': 655, 'lunch': 656, 'cliff': 657, 'reality': 658, 'refraction': 659, 'physical': 660, 'process': 661, 'sum': 662, 'star': 663, 'build': 664, 'blowing': 665, 'writing': 666, 'ambulance': 667, 'crosswalk': 668, 'change': 669, 'direction': 670, 'ambiance': 671, 'flip': 672, 'impasse': 673, 'wolfgang': 674, 'amadeus': 675, 'piano': 676, 'orchestra': 677, 'tabloid': 678, 'ready': 679, 'roll': 680, 'kidnapped': 681, 'alien': 682, 'involved': 683, 'understand': 684, 'goddess': 685, 'zeus': 686, 'athena': 687, 'type': 688, 'hunting': 689, 'quail': 690, 'sierra': 691, 'dirt': 692, 'disaster': 693, 'tired': 694, 'slam': 695, 'screen': 696, 'artemis': 697, 'august': 698, 'room': 699, 'lead': 700, 'glance': 701, 'bath': 702, 'full': 703, 'vanity': 704, 'laundry': 705, 'downstairs': 706, 'quiet': 707, 'nashville': 708, 'seventeen': 709, 'cover': 710, 'everyone': 711, 'staying': 712, 'aunt': 713, 'earring': 714, 'modeling': 715, 'heard': 716, 'workshop': 717, 'agent': 718, 'gaze': 719, 'draw': 720, 'tv': 721, 'stage': 722, 'advice': 723, 'rent': 724, 'kind': 725, 'security': 726, 'deposit': 727, 'figure': 728, 'price': 729, 'published': 730, 'ad': 731, 'response': 732, 'seem': 733, 'lot': 734, 'tennessee': 735, 'standard': 736, 'per': 737, 'rate': 738, 'size': 739, 'sleep': 740, 'week': 741, 'shocked': 742, 'seems': 743, 'confused': 744, 'moment': 745, 'stare': 746, 'blocking': 747, 'doorway': 748, 'hesitates': 749, 'budge': 750, 'alone': 751, 'concerto': 752, 'minor': 753, 'disneyland': 754, 'monorail': 755, 'donut': 756, 'theme': 757, 'restaurant': 758, 'lax': 759, 'chinese': 760, 'theater': 761, 'corridor': 762, 'exit': 763, 'three': 764, 'simultaneously': 765, 'hears': 766, 'klucevsek': 767, 'reprieve': 768, 'barbershop': 769, 'barber': 770, 'shop': 771, 'find': 772, 'indicates': 773, 'threatening': 774, 'anyway': 775, 'selling': 776, 'soda': 777, 'puzzled': 778, 'dissolve': 779, 'siting': 780, 'chair': 781, 'cloth': 782, 'wrapped': 783, 'neck': 784, 'church': 785, 'key': 786, 'thug': 787, 'dropping': 788, 'magazine': 789, 'surrounding': 790, 'cure': 791, 'passive': 792, 'aggressive': 793, 'personality': 794, 'ask': 795, 'learn': 796, 'observant': 797, 'consider': 798, 'need': 799, 'clearer': 800, 'signal': 801, 'join': 802, 'group': 803, 'common': 804, 'charity': 805, 'mingle': 806, 'creative': 807, 'ownership': 808, 'rachmaninoff': 809, 'prelude': 810, 'op': 811, 'government': 812, 'welfare': 813, 'case': 814, 'stonewalling': 815, 'nobody': 816, 'seen': 817, 'visit': 818, 'marked': 819, 'guardian': 820, 'unavailable': 821, 'bother': 822, 'step': 823, 'owner': 824, 'deceased': 825, 'catalina': 826, 'express': 827, 'terminal': 828, 'early': 829, 'continuing': 830, 'sniff': 831, 'writ': 832, 'avalon': 833, 'onto': 834, 'letting': 835, 'steam': 836, 'beethoven': 837, 'violin': 838, 'sonata': 839, 'major': 840, 'parasail': 841, 'dock': 842, 'casino': 843, 'landmark': 844, 'coffee': 845, 'cup': 846, 'dave': 847, 'opposing': 848, 'attorney': 849, 'toshi': 850, 'assistant': 851, 'meet': 852, 'table': 853, 'doolittle': 854, 'meeting': 855, 'business': 856, 'fine': 857, 'boston': 858, 'difference': 859, 'nervous': 860, 'among': 861, 'lawyer': 862, 'oblivious': 863, 'correct': 864, 'answer': 865, 'requesting': 866, 'environmental': 867, 'impact': 868, 'study': 869, 'employment': 870, 'angle': 871, 'kidding': 872, 'absorbed': 873, 'federal': 874, 'tourism': 875, 'franchise': 876, 'double': 877, 'property': 878, 'lease': 879, 'increase': 880, 'value': 881, 'overall': 882, 'benefit': 883, 'stunning': 884, 'average': 885, 'citizen': 886, 'national': 887, 'resource': 888, 'remember': 889, 'history': 890, 'gentleman': 891, 'civil': 892, 'war': 893, 'collateral': 894, 'treasury': 895, 'created': 896, 'california': 897, 'gold': 898, 'rush': 899, 'cash': 900, 'deficit': 901, 'churchill': 902, 'never': 903, 'truth': 904, 'could': 905, 'daybrenda': 906, 'storm': 907, 'mendolshon': 908, 'italian': 909, 'anything': 910, 'bring': 911, 'legality': 912, 'impersonating': 913, 'grandfather': 914, 'stronger': 915, 'harassment': 916, 'suit': 917, 'abuse': 918, 'information': 919, 'booth': 920, 'officer': 921, 'department': 922, 'human': 923, 'service': 924, 'missing': 925, 'may': 926, 'sheridan': 927, 'christine': 928, 'mr': 929, 'inn': 930, 'mt': 931, 'ada': 932, 'confer': 933, 'speak': 934, 'brat': 935, 'unpopular': 936, 'keeping': 937, 'tripling': 938, 'france': 939, 'would': 940, 'owned': 941, 'anacapa': 942, 'string': 943, 'quartet': 944, 'trk': 945, 'somewhat': 946, 'dazed': 947, 'store': 948, 'san': 949, 'miguel': 950, 'including': 951, 'irs': 952, 'expression': 953, 'becomes': 954, 'maniacal': 955, 'document': 956, 'direct': 957, 'signature': 958, 'rip': 959, 'intolerable': 960, 'reconveyence': 961, 'deed': 962, 'trust': 963, 'recent': 964, 'letter': 965, 'loo': 966, 'alarmed': 967, 'spin': 968, 'disoriented': 969, 'fairy': 970, 'tale': 971, 'reminds': 972, 'tempest': 973, 'rightful': 974, 'duke': 975, 'robbed': 976, 'kingdom': 977, 'evil': 978, 'brother': 979, 'born': 980, 'daughter': 981, 'sea': 982, 'story': 983, 'client': 984, 'using': 985, 'speech': 986, 'jail': 987, 'saying': 988, 'enough': 989, 'money': 990, 'representing': 991, 'united': 992, 'state': 993, 'attempt': 994, 'orwell': 995, 'situation': 996, 'irreversible': 997, 'heat': 998, 'hailing': 999, 'lightning': 1000, 'striking': 1001, 'dead': 1002, 'shoulder': 1003, 'restrain': 1004, 'chess': 1005, 'picnic': 1006, 'crash': 1007, 'waiter': 1008, 'trip': 1009, 'spill': 1010, 'dish': 1011, 'floor': 1012, 'tourist': 1013, 'clothing': 1014, 'ship': 1015, 'map': 1016, 'channel': 1017, 'counter': 1018, 'person': 1019, 'help': 1020, 'tilt': 1021, 'reveal': 1022, 'fishing': 1023, 'pier': 1024, 'lapping': 1025, 'rock': 1026, 'seagull': 1027, 'helicopter': 1028, 'approaching': 1029, 'unload': 1030, 'supply': 1031, 'tighter': 1032, 'slept': 1033, 'sleeping': 1034, 'lately': 1035, 'outboard': 1036, 'motor': 1037, 'named': 1038, 'reggie': 1039, 'swan': 1040, 'confirmed': 1041, 'march': 1042, 'th': 1043, 'september': 1044, 'bunk': 1045, 'box': 1046, 'over': 1047, 'surf': 1048, 'north': 1049, 'anyone': 1050, 'afford': 1051, 'streaming': 1052, 'commuter': 1053, 'surfer': 1054, 'sort': 1055, 'cult': 1056, 'entry': 1057, 'south': 1058, 'shore': 1059, 'vacated': 1060, 'immediately': 1061, 'expected': 1062, 'monk': 1063, 'monastery': 1064, 'arrived': 1065, 'shoreline': 1066, 'kick': 1067, 'bird': 1068, 'hideout': 1069, 'nestled': 1070, 'eucalyptus': 1071, 'canyon': 1072, 'schubert': 1073, 'w': 1074, 'interreise': 1075, 'sunny': 1076, 'hammock': 1077, 'reading': 1078, 'book': 1079, 'peace': 1080, 'bow': 1081, 'arrow': 1082, 'raise': 1083, 'aiming': 1084, 'angry': 1085, 'possessed': 1086, 'lethal': 1087, 'arrowhead': 1088, 'pointed': 1089, 'release': 1090, 'puppy': 1091, 'cute': 1092, 'dalmatian': 1093, 'longing': 1094, 'picked': 1095, 'skitters': 1096, 'follows': 1097, 'blank': 1098, 'kitchen': 1099, 'library': 1100, 'opened': 1101, 'everywhere': 1102, 'cooking': 1103, 'stove': 1104, 'rustic': 1105, 'elsewhere': 1106, 'search': 1107, 'crude': 1108, 'area': 1109, 'couch': 1110, 'fireplace': 1111, 'visitor': 1112, 'suitcase': 1113, 'dining': 1114, 'mantle': 1115, 'doorstep': 1116, 'heavy': 1117, 'rummage': 1118, 'messy': 1119, 'drawer': 1120, 'horn': 1121, 'bolt': 1122, 'carry': 1123, 'food': 1124, 'cardboard': 1125, 'dress': 1126, 'likewise': 1127, 'hole': 1128, 'stack': 1129, 'package': 1130, 'pop': 1131, 'tart': 1132, 'eating': 1133, 'voraciously': 1134, 'stroke': 1135, 'animal': 1136, 'caused': 1137, 'erosion': 1138, 'scattered': 1139, 'protection': 1140, 'matter': 1141, 'eats': 1142, 'anywhere': 1143, 'unpleasantness': 1144, 'edgar': 1145, 'poe': 1146, 'audience': 1147, 'dancing': 1148, 'image': 1149, 'death': 1150, 'ok': 1151, 'talking': 1152, 'guess': 1153, 'starting': 1154, 'bug': 1155, 'lost': 1156, 'unaccompanied': 1157, 'cello': 1158, 'suite': 1159, 'november': 1160, 'reflects': 1161, 'sink': 1162, 'enjoy': 1163, 'supposed': 1164, 'dirty': 1165, 'moving': 1166, 'stall': 1167, 'gubernatorial': 1168, 'election': 1169, 'forget': 1170, 'dilemma': 1171, 'art': 1172, 'character': 1173, 'train': 1174, 'east': 1175, 'heading': 1176, 'pause': 1177, 'lucky': 1178, 'extra': 1179, 'fit': 1180, 'silent': 1181, 'distracted': 1182, 'digging': 1183, 'looked': 1184, 'reference': 1185, 'leaving': 1186, 'western': 1187, 'eastern': 1188, 'sumerian': 1189, 'comic': 1190, 'literature': 1191, 'thought': 1192, 'drop': 1193, 'mother': 1194, 'favorite': 1195, 'written': 1196, 'diary': 1197, 'protest': 1198, 'advance': 1199, 'role': 1200, 'resolved': 1201, 'ineffective': 1202, 'irrelevant': 1203, 'marginal': 1204, 'unable': 1205, 'influence': 1206, 'yet': 1207, 'influenced': 1208, 'short': 1209, 'victimized': 1210, 'circumstance': 1211, 'politics': 1212, 'deal': 1213, 'afternoon': 1214, 'ravel': 1215, 'warm': 1216, 'breeze': 1217, 'asked': 1218, 'shipwreck': 1219, 'washed': 1220, 'beautiful': 1221, 'closed': 1222, 'childhood': 1223, 'prince': 1224, 'father': 1225, 'england': 1226, 'mining': 1227, 'camp': 1228, 'grew': 1229, 'india': 1230, 'french': 1231, 'indochina': 1232, 'cactus': 1233, 'arbitrary': 1234, 'vierne': 1235, 'finale': 1236, 'mountainside': 1237, 'catch': 1238, 'realizes': 1239, 'tricked': 1240, 'restroom': 1241, 'wrong': 1242, 'fingernail': 1243, 'painted': 1244, 'puffed': 1245, 'frightful': 1246, 'lip': 1247, 'remove': 1248, 'nail': 1249, 'polish': 1250, 'together': 1251, 'corrected': 1252, 'mainland': 1253, 'part': 1254, 'forgotten': 1255, 'surrounded': 1256, 'floral': 1257, 'luggage': 1258, 'toccata': 1259, 'later': 1260, 'asleep': 1261, 'gained': 1262, 'pound': 1263, 'can': 1264, 'unlocks': 1265, 'follow': 1266, 'startled': 1267, 'calm': 1268, 'expecting': 1269, 'exterminator': 1270, 'requested': 1271, 'h': 1272, 'tom': 1273, 'appears': 1274, 'groggy': 1275, 'hell': 1276, 'stuff': 1277, 'frantically': 1278, 'collecting': 1279, 'garbage': 1280, 'lying': 1281, 'clothes': 1282, 'cleanup': 1283, 'permission': 1284, 'request': 1285, 'board': 1286, 'perhaps': 1287, 'kicked': 1288, 'sculpture': 1289, 'manager': 1290, 'shake': 1291, 'amazement': 1292, 'arne': 1293, 'mellnas': 1294, 'transparence': 1295, 'debbie': 1296, 'green': 1297, 'cab': 1298, 'garish': 1299, 'encino': 1300, 'julienne': 1301, 'dressed': 1302, 'plainly': 1303, 'skeptical': 1304, 'begin': 1305, 'new': 1306, 'pathway': 1307, 'quantity': 1308, 'mushroom': 1309, 'growing': 1310, 'lawn': 1311, 'flower': 1312, 'kneel': 1313, 'wonder': 1314, 'partial': 1315, 'progress': 1316, 'taking': 1317, 'constitutional': 1318, 'blue': 1319, 'white': 1320, 'terry': 1321, 'tennis': 1322, 'shoe': 1323, 'obstacle': 1324, 'determined': 1325, 'physically': 1326, 'dvorzak': 1327, 'finger': 1328, 'unshaven': 1329, 'refrigerator': 1330, 'liar': 1331, 'flashback': 1332, 'broken': 1333, 'shut': 1334, 'shave': 1335, 'fountain': 1336, 'residual': 1337, 'check': 1338, 'plumber': 1339, 'steal': 1340, 'japanese': 1341, 'admire': 1342, 'strap': 1343, 'stolen': 1344, 'strapped': 1345, 'ditch': 1346, 'rental': 1347, 'towed': 1348, 'push': 1349, 'faked': 1350, 'homelessness': 1351, 'begged': 1352, 'chicken': 1353, 'faking': 1354, 'stomach': 1355, 'scraped': 1356, 'freon': 1357, 'smell': 1358, 'rancid': 1359, 'fat': 1360, 'finished': 1361, 'count': 1362, 'cousin': 1363, 'sociable': 1364, 'finally': 1365, 'floating': 1366, 'little': 1367, 'wicker': 1368, 'basket': 1369, 'shout': 1370, 'john': 1371, 'adam': 1372, 'symmetry': 1373, 'indicate': 1374, 'aimless': 1375, 'several': 1376, 'annoyed': 1377, 'weird': 1378, 'worker': 1379, 'carrying': 1380, 'duck': 1381, 'decapitated': 1382, 'refuge': 1383, 'musician': 1384, 'far': 1385, 'mind': 1386, 'question': 1387, 'overslept': 1388, 'frustration': 1389, 'runaway': 1390, 'careen': 1391, 'backwards': 1392, 'destroys': 1393, 'sat': 1394, 'hill': 1395, 'propelled': 1396, 'enter': 1397, 'roof': 1398, 'bike': 1399, 'holding': 1400, 'bicycle': 1401, 'damage': 1402, 'god': 1403, 'fucking': 1404, 'popped': 1405, 'buck': 1406, 'fall': 1407, 'weight': 1408, 'rolling': 1409, 'wheel': 1410, 'chasing': 1411, 'escape': 1412, 'terror': 1413, 'gain': 1414, 'sequence': 1415, 'cat': 1416, 'cross': 1417, 'lock': 1418, 'innocently': 1419, 'purring': 1420, 'loosening': 1421, 'queen': 1422, 'headed': 1423, 'genius': 1424, 'iq': 1425, 'parent': 1426, 'killed': 1427, 'went': 1428, 'love': 1429, 'alive': 1430, 'insurance': 1431, 'assign': 1432, 'infantile': 1433, 'motif': 1434, 'boring': 1435, 'religion': 1436, 'explains': 1437, 'sex': 1438, 'poor': 1439, 'ta': 1440, 'starve': 1441, 'reason': 1442, 'unfortunately': 1443, 'worse': 1444, 'nut': 1445, 'low': 1446, 'basically': 1447, 'relative': 1448, 'chick': 1449, 'pluck': 1450, 'king': 1451, 'stranger': 1452, 'acid': 1453, 'enjoyable': 1454, 'monument': 1455, 'backyard': 1456, 'balancing': 1457, 'amount': 1458, 'tahitian': 1459, 'choir': 1460, 'segue': 1461, 'corelli': 1462, 'vii': 1463, 'prokofiev': 1464, 'romeo': 1465, 'juliette': 1466, 'choice': 1467, 'pregnant': 1468, 'false': 1469, 'pregnancy': 1470, 'impossible': 1471, 'knocked': 1472, 'incredible': 1473, 'weather': 1474, 'skin': 1475, 'especially': 1476, 'private': 1477, 'maine': 1478, 'frozen': 1479, 'giving': 1480, 'simplest': 1481, 'possible': 1482, 'upsetting': 1483, 'criminy': 1484, 'sure': 1485, 'damn': 1486, 'drawn': 1487, 'slum': 1488, 'lording': 1489, 'subject': 1490, 'mid': 1491, 'sentence': 1492, 'freely': 1493, 'world': 1494, 'denigration': 1495, 'dear': 1496, 'husband': 1497, 'bless': 1498, 'soul': 1499, 'bastard': 1500, 'twinkle': 1501, 'idea': 1502, 'needed': 1503, 'regret': 1504, 'ostentatious': 1505, 'solemn': 1506, 'hated': 1507, 'behaved': 1508, 'independence': 1509, 'better': 1510, 'shane': 1511, 'gunfighter': 1512, 'hung': 1513, 'gun': 1514, 'fault': 1515, 'fato': 1516, 'profungus': 1517, 'called': 1518, 'eat': 1519, 'johnson': 1520, 'horny': 1521, 'drive': 1522, 'ventura': 1523, 'garment': 1524, 'district': 1525, 'parked': 1526, 'forest': 1527, 'wanted': 1528, 'driveway': 1529, 'cemetery': 1530, 'mortuary': 1531, 'trance': 1532, 'mortician': 1533, 'qualifies': 1534, 'privacy': 1535, 'law': 1536, 'require': 1537, 'watch': 1538, 'guest': 1539, 'funeral': 1540, 'watcher': 1541, 'example': 1542, 'material': 1543, 'ahead': 1544, 'morgue': 1545, 'read': 1546, 'frascilita': 1547, 'lisa': 1548, 'germano': 1549, 'geek': 1550, 'clock': 1551, 'midnight': 1552, 'slide': 1553, 'lift': 1554, 'zip': 1555, 'pale': 1556, 'knife': 1557, 'deep': 1558, 'breath': 1559, 'sawing': 1560, 'hurry': 1561, 'scoop': 1562, 'entrails': 1563, 'saw': 1564, 'loose': 1565, 'throw': 1566, 'splatter': 1567, 'cold': 1568, 'tile': 1569, 'examine': 1570, 'depraved': 1571, 'peterson': 1572, 'dunno': 1573, 'drug': 1574, 'decides': 1575, 'tambourine': 1576, 'lemon': 1577, 'piper': 1578, 'pharmacy': 1579, 'pornographic': 1580, 'tapped': 1581, 'hermes': 1582, 'beard': 1583, 'aisle': 1584, 'quietly': 1585, 'orgy': 1586, 'scoring': 1587, 'twice': 1588, 'organization': 1589, 'pornography': 1590, 'directs': 1591, 'smile': 1592, 'jefferson': 1593, 'mistress': 1594, 'eros': 1595, 'toy': 1596, 'shoot': 1597, 'demigod': 1598, 'poet': 1599, 'headache': 1600, 'best': 1601, 'vegetable': 1602, 'worth': 1603, 'embarrassed': 1604, 'rid': 1605, 'screw': 1606, 'challenge': 1607, 'overcoming': 1608, 'blond': 1609, 'breast': 1610, 'also': 1611, 'tomboy': 1612, 'honorable': 1613, 'unless': 1614, 'yell': 1615, 'lung': 1616, 'thrown': 1617, 'backward': 1618, 'closet': 1619, 'pipe': 1620, 'alarm': 1621, 'fright': 1622, 'leaking': 1623, 'pulling': 1624, 'frail': 1625, 'danger': 1626, 'leak': 1627, 'touch': 1628, 'explodes': 1629, 'burn': 1630, 'interviewed': 1631, 'crew': 1632, 'flaming': 1633, 'nice': 1634, 'pulled': 1635, 'save': 1636, 'explosion': 1637, 'asking': 1638, 'television': 1639, 'blew': 1640, 'died': 1641, 'holy': 1642, 'shit': 1643, 'shaking': 1644, 'aerosol': 1645, 'johann': 1646, 'sebastian': 1647, 'bwv': 1648, 'largo': 1649, 'non': 1650, 'tanto': 1651, 'spraying': 1652, 'silly': 1653, 'range': 1654, 'rover': 1655, 'spray': 1656, 'emits': 1657, 'squiggly': 1658, 'match': 1659, 'oscillation': 1660, 'astonishment': 1661, 'kv': 1662, 'dangerous': 1663, 'branch': 1664, 'brush': 1665, 'greentree': 1666, 'st': 1667, 'gra': 1668, 'intree': 1669, 'knock': 1670, 'son': 1671, 'greg': 1672, 'maybe': 1673, 'allergic': 1674, 'pain': 1675, 'wallet': 1676, 'receipt': 1677, 'graintree': 1678, 'aim': 1679, 'sloppy': 1680, 'lamp': 1681, 'bulb': 1682, 'startle': 1683, 'ominous': 1684, 'cloud': 1685, 'cast': 1686, 'roily': 1687, 'brian': 1688, 'eno': 1689, 'spirit': 1690, 'drifting': 1691, 'shine': 1692, 'york': 1693, 'patio': 1694, 'nøel': 1695, 'wig': 1696, 'applies': 1697, 'lipstick': 1698, 'returned': 1699, 'tomorrow': 1700, 'absolutely': 1701, 'turning': 1702, 'dial': 1703, 'randomly': 1704, 'dog': 1705, 'future': 1706, 'force': 1707, 'gather': 1708, 'interesting': 1709, 'unintelligible': 1710, 'static': 1711, 'ringing': 1712, 'easy': 1713, 'highland': 1714, 'matrix': 1715, 'lactating': 1716, 'etched': 1717, 'droplet': 1718, 'bleach': 1719, 'dab': 1720, 'color': 1721, 'purple': 1722, 'palette': 1723, 'heroic': 1724, 'mall': 1725, 'facing': 1726, 'darling': 1727, 'hasty': 1728, 'scotch': 1729, 'preceding': 1730, 'ponytail': 1731, 'shotgun': 1732, 'normal': 1733, 'cantilever': 1734, 'awe': 1735, 'curb': 1736, 'blind': 1737, 'style': 1738, 'sunset': 1739, 'l': 1740, 'sans': 1741, 'finding': 1742, 'freckle': 1743, 'talented': 1744, 'heady': 1745, 'slap': 1746, 'mine': 1747, 'drinking': 1748, 'balcony': 1749, 'ludwig': 1750, 'van': 1751, 'pathetique': 1752, 'rapidly': 1753, 'wiggling': 1754, 'eyebrow': 1755, 'shot': 1756, 'break': 1757, 'form': 1758, 'applying': 1759, 'ditched': 1760, 'glue': 1761, 'laughter': 1762, 'orion': 1763, 'wrist': 1764, 'loan': 1765, 'tall': 1766, 'poplar': 1767, 'mulholland': 1768, 'bowed': 1769, 'clean': 1770, 'hanging': 1771, 'faster': 1772, 'damaged': 1773, 'secret': 1774, 'cycled': 1775, 'obvious': 1776, 'lodged': 1777, 'hawked': 1778, 'searing': 1779, 'lush': 1780, 'trash': 1781, 'thiele': 1782, 'twin': 1783, 'mn': 1784, 'till': 1785, 'bigger': 1786, 'windstorm': 1787, 'santa': 1788, 'monica': 1789, 'bay': 1790, 'lifting': 1791, 'ball': 1792, 'lovely': 1793, 'faucet': 1794, 'swath': 1795, 'forever': 1796, 'pre': 1797, 'haydn': 1798, 'allegro': 1799, 'con': 1800, 'spirito': 1801, 'opposite': 1802, 'googie': 1803, 'horse': 1804, 'entree': 1805, 'identify': 1806, 'total': 1807, 'avoids': 1808, 'smoke': 1809, 'pocket': 1810, 'lighter': 1811, 'imposing': 1812, 'priority': 1813, 'triumph': 1814, 'lighting': 1815, 'flame': 1816, 'surprise': 1817, 'power': 1818, 'outage': 1819, 'darkens': 1820, 'rectangle': 1821, 'grid': 1822, 'drift': 1823, 'streak': 1824, 'applauding': 1825, 'thinking': 1826, 'statue': 1827, 'barry': 1828, 'hey': 1829, 'dance': 1830, 'class': 1831, 'allowed': 1832, 'thirsty': 1833, 'coke': 1834, 'spoon': 1835, 'sugar': 1836, 'funny': 1837, 'burp': 1838, 'knew': 1839, 'neighbor': 1840, 'pretty': 1841, 'embarrassing': 1842, 'moi': 1843, 'done': 1844, 'condescending': 1845, 'clap': 1846, 'entrance': 1847, 'today': 1848, 'lobby': 1849, 'added': 1850, 'already': 1851, 'fame': 1852, 'personally': 1853, 'ever': 1854, 'comfortable': 1855, 'coffin': 1856, 'cable': 1857, 'weak': 1858, 'rather': 1859, 'thigh': 1860, 'pepsi': 1861, 'scared': 1862, 'forgot': 1863, 'settle': 1864, 'pussy': 1865, 'reacts': 1866, 'lack': 1867, 'determination': 1868, 'effect': 1869, 'structural': 1870, 'jam': 1871, 'huddle': 1872, 'tumult': 1873, 'barrrrrrry': 1874, 'chunk': 1875, 'plaster': 1876, 'brick': 1877, 'aahhhhhhhh': 1878, 'coverage': 1879, 'collapsed': 1880, 'parking': 1881, 'structure': 1882, 'buckled': 1883, 'bocherini': 1884, 'announcer': 1885, 'montage': 1886, 'officially': 1887, 'felt': 1888, 'diego': 1889, 'vega': 1890, 'modesto': 1891, 'centered': 1892, 'northridge': 1893, 'unnamed': 1894, 'granada': 1895, 'sadly': 1896, 'reported': 1897, 'clarita': 1898, 'storefront': 1899, 'landslide': 1900, 'pacific': 1901, 'palisade': 1902, 'caked': 1903, 'mud': 1904, 'ruptured': 1905, 'near': 1906, 'cieniega': 1907, 'complex': 1908, 'idaho': 1909, 'exploded': 1910, 'toppled': 1911, 'boarded': 1912, 'sad': 1913, 'wall': 1914, 'fallen': 1915, 'exposing': 1916, 'content': 1917, 'hotel': 1918, 'crack': 1919, 'facade': 1920, 'anybody': 1921, 'wandering': 1922, 'walked': 1923, 'bell': 1924, 'tower': 1925, 'tilted': 1926, 'halfway': 1927, 'scary': 1928, 'alley': 1929, 'rubble': 1930, 'emerge': 1931, 'kit': 1932, 'texas': 1933, 'hour': 1934, 'spring': 1935, 'vine': 1936, 'deranged': 1937, 'sexy': 1938, 'miss': 1939, 'friend': 1940, 'course': 1941, 'appraoches': 1942, 'sexier': 1943, 'self': 1944, 'liked': 1945, 'loser': 1946, 'terrible': 1947, 'taste': 1948, 'friggin': 1949, 'mouth': 1950, 'flees': 1951, 'amazed': 1952, 'beg': 1953, 'differ': 1954, 'tricycle': 1955, 'listed': 1956, 'household': 1957, 'item': 1958, 'chaos': 1959, 'zebra': 1960, 'storage': 1961, 'picture': 1962, 'forgets': 1963, 'tenant': 1964, 'personal': 1965, 'fleeing': 1966, 'condemned': 1967, 'paying': 1968, 'upstairs': 1969, 'stair': 1970, 'visibly': 1971, 'prettier': 1972, 'survived': 1973, 'charming': 1974, 'lean': 1975, 'kiss': 1976, 'forward': 1977, 'straight': 1978, 'dusty': 1979, 'coat': 1980, 'valuable': 1981, 'worry': 1982, 'beat': 1983, 'aftershock': 1984, 'scream': 1985, 'checked': 1986, 'main': 1987, 'asshole': 1988, 'dvorak': 1989, 'adagio': 1990, 'allan': 1991, 'chain': 1992, 'link': 1993, 'fence': 1994, 'prevents': 1995, 'squatter': 1996, 'wrecked': 1997, 'wanders': 1998, 'abandoned': 1999, 'jim': 2000, 'flopped': 2001, 'problem': 2002, 'least': 2003, 'breathing': 2004, 'spite': 2005, 'raymond': 2006, 'barn': 2007, 'fell': 2008, 'generator': 2009, 'flew': 2010, 'reflected': 2011, 'zodiac': 2012, 'diminishes': 2013, 'anthony': 2014, 'engine': 2015, 'listen': 2016, 'antony': 2017, 'plunge': 2018, 'overboard': 2019, 'pack': 2020, 'paddling': 2021, 'sunday': 2022, 'crazy': 2023, 'plateau': 2024, 'rene': 2025, 'du': 2026, 'pere': 2027, 'saltimbanco': 2028, 'climb': 2029, 'hearing': 2030, 'stalk': 2031, 'grass': 2032, 'boar': 2033, 'bush': 2034, 'slow': 2035, 'mo': 2036, 'picking': 2037, 'paper': 2038, 'falling': 2039, 'return': 2040, 'action': 2041, 'stance': 2042, 'tearfully': 2043, 'aging': 2044, 'mention': 2045, 'birthday': 2046, 'hide': 2047, 'plain': 2048, 'sight': 2049, 'treasure': 2050, 'present': 2051, 'gone': 2052, 'luck': 2053, 'harpsichord': 2054, 'paddle': 2055, 'cry': 2056, 'turned': 2057, 'overlooking': 2058}\n"
          ]
        }
      ],
      "source": [
        "print(dicts[0])"
      ]
    },
    {
      "cell_type": "markdown",
      "metadata": {
        "id": "A8PvdHJyls0U"
      },
      "source": [
        "Creating and padding Sequences"
      ]
    },
    {
      "cell_type": "code",
      "execution_count": 55,
      "metadata": {},
      "outputs": [
        {
          "ename": "KeyError",
          "evalue": "'quentin'",
          "output_type": "error",
          "traceback": [
            "\u001b[1;31m---------------------------------------------------------------------------\u001b[0m",
            "\u001b[1;31mKeyError\u001b[0m                                  Traceback (most recent call last)",
            "Cell \u001b[1;32mIn [55], line 5\u001b[0m\n\u001b[0;32m      3\u001b[0m     sequences \u001b[39m=\u001b[39m []\n\u001b[0;32m      4\u001b[0m     \u001b[39mfor\u001b[39;00m token \u001b[39min\u001b[39;00m moviesCleaned[i]:\n\u001b[1;32m----> 5\u001b[0m         sequences\u001b[39m.\u001b[39mappend([dicts[i][word] \u001b[39mfor\u001b[39;00m word \u001b[39min\u001b[39;00m token])\n\u001b[0;32m      6\u001b[0m     movieSequences\u001b[39m.\u001b[39mappend(sequences)\n\u001b[0;32m     12\u001b[0m \u001b[39m#padding of sequences\u001b[39;00m\n",
            "Cell \u001b[1;32mIn [55], line 5\u001b[0m, in \u001b[0;36m<listcomp>\u001b[1;34m(.0)\u001b[0m\n\u001b[0;32m      3\u001b[0m     sequences \u001b[39m=\u001b[39m []\n\u001b[0;32m      4\u001b[0m     \u001b[39mfor\u001b[39;00m token \u001b[39min\u001b[39;00m moviesCleaned[i]:\n\u001b[1;32m----> 5\u001b[0m         sequences\u001b[39m.\u001b[39mappend([dicts[i][word] \u001b[39mfor\u001b[39;00m word \u001b[39min\u001b[39;00m token])\n\u001b[0;32m      6\u001b[0m     movieSequences\u001b[39m.\u001b[39mappend(sequences)\n\u001b[0;32m     12\u001b[0m \u001b[39m#padding of sequences\u001b[39;00m\n",
            "\u001b[1;31mKeyError\u001b[0m: 'quentin'"
          ]
        }
      ],
      "source": [
        "movieSequences = []\n",
        "for i in range(0,movieCount):\n",
        "    sequences = []\n",
        "    for token in moviesCleaned[i]:\n",
        "        sequences.append([dicts[i][word] for word in token])\n",
        "    movieSequences.append(sequences)\n",
        "    \n",
        "    \n",
        "    \n",
        "\n",
        "\n",
        "#padding of sequences\n",
        "def pad_sequences(sequences):\n",
        "    max_length = max([len(seq) for seq in sequences])\n",
        "    padded_sequences = []\n",
        "    for seq in sequences:\n",
        "        while len(seq) < max_length:\n",
        "            seq.append(0)\n",
        "        padded_sequences.append(seq)\n",
        "    return padded_sequences\n",
        "for i in range(0, movieCount):\n",
        "    movieSequences[i] = pad_sequences(movieSequences[i])\n"
      ]
    },
    {
      "cell_type": "code",
      "execution_count": 57,
      "metadata": {
        "id": "CuGQ11mqmPnJ"
      },
      "outputs": [],
      "source": [
        "for i in range(0, movieCount):\n",
        "    token_arr=moviesCleaned[i]\n",
        "    for token in token_arr:\n",
        "        for word in token:\n",
        "            if word not in dicts[i]:\n",
        "                dicts[i][word] = 0\n",
        "        joined = ' '.join(token)\n",
        "        token_arr[token_arr.index(token)] = joined\n",
        "    moviesCleaned[i] = token_arr"
      ]
    },
    {
      "cell_type": "code",
      "execution_count": 59,
      "metadata": {},
      "outputs": [
        {
          "name": "stdout",
          "output_type": "stream",
          "text": [
            "q\n"
          ]
        }
      ],
      "source": [
        "print(moviesCleaned[0][0][0])"
      ]
    },
    {
      "cell_type": "markdown",
      "metadata": {
        "id": "1Hy0ZbsvmJQU"
      },
      "source": [
        "Finding the compound Scores of each scene"
      ]
    },
    {
      "cell_type": "code",
      "execution_count": 61,
      "metadata": {
        "id": "5Zz_H0CFmJ0O"
      },
      "outputs": [],
      "source": [
        "compoundScores = []\n",
        "for i in range(0, movieCount):\n",
        "    compound = []\n",
        "    obj  = SentimentIntensityAnalyzer()\n",
        "    for line in moviesCleaned[i]:\n",
        "        sentiment  = obj.polarity_scores(line)\n",
        "        # print(sentiment['compound'])\n",
        "        compound.append(sentiment['compound'])\n",
        "    compoundScores.append(compound)\n",
        "    "
      ]
    },
    {
      "cell_type": "code",
      "execution_count": 74,
      "metadata": {},
      "outputs": [
        {
          "name": "stdout",
          "output_type": "stream",
          "text": [
            "0\n"
          ]
        }
      ],
      "source": [
        "# minimun length of arrays in compoundScores \n",
        "def min_length(arr):\n",
        "    min = len(arr[0])\n",
        "    for i in range(0, len(arr)):\n",
        "        if len(arr[i]) < min:\n",
        "            min = len(arr[i])\n",
        "    return min\n",
        "print(min_length(compoundScores))"
      ]
    },
    {
      "cell_type": "code",
      "execution_count": 72,
      "metadata": {
        "colab": {
          "base_uri": "https://localhost:8080/",
          "height": 265
        },
        "id": "775Rv5uPmtXy",
        "outputId": "eaa6ecd1-ce52-4fac-dae3-9340da5c7ec6"
      },
      "outputs": [
        {
          "data": {
            "image/png": "[encoded data removed]",
            "text/plain": [
              "<Figure size 640x480 with 1 Axes>"
            ]
          },
          "metadata": {},
          "output_type": "display_data"
        }
      ],
      "source": [
        "def plot_graph(compoundScores):\n",
        "    plt.plot(compoundScores)\n",
        "    plt.show()\n",
        "\n",
        "plot_graph(compoundScores[0][:40])"
      ]
    },
    {
      "cell_type": "code",
      "execution_count": 96,
      "metadata": {},
      "outputs": [
        {
          "name": "stdout",
          "output_type": "stream",
          "text": [
            "[0.0, -0.9981, -0.931, -0.9855, -0.9972, -0.9194, -0.4404, -0.9501, 0.0, -0.8625, -0.34, -0.9972, -0.9986, -0.9948, 0.9287, -0.8795, 0.8779, 0.5859, -0.5423, -0.9983, 0.4404, 0.0, 0.0, -0.9962, 0.836, 0.0, 0.9345]\n"
          ]
        }
      ],
      "source": [
        "\n",
        "compoundScores2 =[]\n",
        "import numpy as np\n",
        "\n",
        "for x in compoundScores:\n",
        "    if(len(x)!=0):\n",
        "        compoundScores2.append(x)\n",
        "\n",
        "for c in compoundScores2:\n",
        "    c=c[:27]\n",
        "    for i in c:\n",
        "        i = i*100\n",
        "\n",
        "n = compoundScores[0][:27]\n",
        "print(n)\n",
        "\n",
        "def find_similar_row(array, n):\n",
        "    # find the difference between n and each row in array\n",
        "    # find the sum of the difference\n",
        "    # find the row with the lowest sum of difference\n",
        "    # return the row\n",
        "    # return array[np.argmin(np.sum(np.abs(array - n), axis=1))]\n",
        "    return array[np.argmax(np.dot(n, array)/(np.linalg.norm(array)*np.linalg.norm(n)))]\n",
        "\n",
        "# find_similar_row(compoundScores2, n)"
      ]
    }
  ],
  "metadata": {
    "colab": {
      "provenance": []
    },
    "kernelspec": {
      "display_name": "Python 3.10.7 64-bit",
      "language": "python",
      "name": "python3"
    },
    "language_info": {
      "codemirror_mode": {
        "name": "ipython",
        "version": 3
      },
      "file_extension": ".py",
      "mimetype": "text/x-python",
      "name": "python",
      "nbconvert_exporter": "python",
      "pygments_lexer": "ipython3",
      "version": "3.10.7"
    },
    "vscode": {
      "interpreter": {
        "hash": "369f2c481f4da34e4445cda3fffd2e751bd1c4d706f27375911949ba6bb62e1c"
      }
    }
  },
  "nbformat": 4,
  "nbformat_minor": 0
}
