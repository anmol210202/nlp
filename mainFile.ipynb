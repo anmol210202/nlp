{
 "cells": [
  {
   "cell_type": "code",
   "execution_count": 6,
   "metadata": {},
   "outputs": [
    {
     "ename": "ModuleNotFoundError",
     "evalue": "No module named 'nltk'",
     "output_type": "error",
     "traceback": [
      "\u001b[1;31m---------------------------------------------------------------------------\u001b[0m",
      "\u001b[1;31mModuleNotFoundError\u001b[0m                       Traceback (most recent call last)",
      "Cell \u001b[1;32mIn [6], line 2\u001b[0m\n\u001b[0;32m      1\u001b[0m \u001b[39m# read txt file and string\u001b[39;00m\n\u001b[1;32m----> 2\u001b[0m \u001b[39mimport\u001b[39;00m \u001b[39mnltk\u001b[39;00m\n\u001b[0;32m      4\u001b[0m nltk\u001b[39m.\u001b[39mdownload()\n\u001b[0;32m      5\u001b[0m \u001b[39mfrom\u001b[39;00m \u001b[39mnltk\u001b[39;00m\u001b[39m.\u001b[39;00m\u001b[39mcorpus\u001b[39;00m \u001b[39mimport\u001b[39;00m stopwords\n",
      "\u001b[1;31mModuleNotFoundError\u001b[0m: No module named 'nltk'"
     ]
    }
   ],
   "source": [
    "# read txt file and string\n",
    "import nltk\n",
    "\n",
    "nltk.download()\n",
    "from nltk.corpus import stopwords\n",
    "from nltk.tokenize import word_tokenize\n",
    "# from gensim.models import Word2Vec\n",
    "import re\n",
    "with open('output.txt', 'r') as f:\n",
    "    text = f.read()\n",
    "    string = str(text)\n",
    "\n",
    "\n",
    "# when find a word put rest of string in a list\n",
    "def find_word(string, word,arr):\n",
    "    index = string.find\n",
    "    return index\n",
    "\n",
    "\n",
    "def arr_scence(string ):\n",
    "    arr = [string.start() for string in re.finditer('INT.', string)]\n",
    "    arr = arr + [string.start() for string in re.finditer('EXT.', string)]\n",
    "    arr.sort()\n",
    "    scene = []\n",
    "    for i in range(0,len(arr)):\n",
    "        if i == 0:\n",
    "            scene.append(string[0:arr[i]])\n",
    "        else:\n",
    "            scene.append(string[arr[i-1]:arr[i]])\n",
    "    return scene\n",
    "    \n",
    "\n",
    "# print(len(arr_scence(string)))\n",
    "\n",
    "token_arr = []\n",
    "\n",
    "for scene in arr_scence(string):\n",
    "    text = re.sub(r'\\[[0-9]*\\]', ' ', scene)\n",
    "    text = re.sub(r'\\s+', ' ', text)\n",
    "    text = text.lower()\n",
    "    text = re.sub(r'\\d', ' ', text)\n",
    "    text = re.sub('(\\\\b[A-Za-z] \\\\b|\\\\b [A-Za-z]\\\\b)', '', text)\n",
    "    text = re.sub('\\W+',' ', text )\n",
    "    text = word_tokenize(text)\n",
    "    scene = []\n",
    "    for word in text:\n",
    "        if word not in stopwords.words('english'):\n",
    "            scene.append(word)\n",
    "            \n",
    "    token_arr.append(scene)\n",
    "    # model = Word2Vec([text], min_count=1)\n",
    "    # words = model.wv.vocab\n",
    "    # print(text)\n",
    "    # sentences = nltk.sent_tokenize(text)\n",
    "    # sentences = [nltk.word_tokenize(sentence) for sentence in sentences]\n",
    "    # for i in range(len(sentences)):\n",
    "    #     sentences[i] = [word for word in sentences[i] if word not in stopwords.words('english')]\n",
    "    \n",
    "    \n",
    "    \n",
    "\n",
    "for token in token_arr:\n",
    "    joined = ' '.join(token)\n",
    "    token_arr[token_arr.index(token)] = joined\n",
    "print(token_arr )\n",
    "\n",
    "compoundScores = []\n",
    "obj  = SentimentIntensityAnalyzer()\n",
    "for line in token_arr:\n",
    "    sentiment  = obj.polarity_scores(line)\n",
    "    # print(sentiment['compound'])\n",
    "    compoundScores.append(sentiment['compound'])\n",
    "\n",
    "def plot_graph(compoundScores):\n",
    "    plt.plot(compoundScores)\n",
    "    plt.show()\n",
    "\n",
    "plot_graph(compoundScores)"
   ]
  },
  {
   "cell_type": "code",
   "execution_count": 4,
   "metadata": {},
   "outputs": [
    {
     "name": "stdout",
     "output_type": "stream",
     "text": [
      "Requirement already satisfied: nltk in c:\\python310\\lib\\site-packages (3.7)\n",
      "Requirement already satisfied: joblib in c:\\python310\\lib\\site-packages (from nltk) (1.2.0)\n",
      "Requirement already satisfied: click in c:\\python310\\lib\\site-packages (from nltk) (8.1.3)\n",
      "Requirement already satisfied: tqdm in c:\\python310\\lib\\site-packages (from nltk) (4.64.1)\n",
      "Requirement already satisfied: regex>=2021.8.3 in c:\\python310\\lib\\site-packages (from nltk) (2022.10.31)\n",
      "Requirement already satisfied: colorama in c:\\python310\\lib\\site-packages (from click->nltk) (0.4.6)\n"
     ]
    },
    {
     "name": "stderr",
     "output_type": "stream",
     "text": [
      "WARNING: Ignoring invalid distribution -ip (c:\\python310\\lib\\site-packages)\n",
      "WARNING: Ignoring invalid distribution - (c:\\python310\\lib\\site-packages)\n",
      "WARNING: Ignoring invalid distribution -ip (c:\\python310\\lib\\site-packages)\n",
      "WARNING: Ignoring invalid distribution - (c:\\python310\\lib\\site-packages)\n",
      "WARNING: Ignoring invalid distribution -ip (c:\\python310\\lib\\site-packages)\n",
      "WARNING: Ignoring invalid distribution - (c:\\python310\\lib\\site-packages)\n",
      "WARNING: Ignoring invalid distribution -ip (c:\\python310\\lib\\site-packages)\n",
      "WARNING: Ignoring invalid distribution - (c:\\python310\\lib\\site-packages)\n",
      "WARNING: Ignoring invalid distribution -ip (c:\\python310\\lib\\site-packages)\n",
      "WARNING: Ignoring invalid distribution - (c:\\python310\\lib\\site-packages)\n",
      "WARNING: Ignoring invalid distribution -ip (c:\\python310\\lib\\site-packages)\n",
      "WARNING: Ignoring invalid distribution - (c:\\python310\\lib\\site-packages)\n"
     ]
    }
   ],
   "source": [
    "!pip3 install nltk"
   ]
  },
  {
   "cell_type": "code",
   "execution_count": null,
   "metadata": {},
   "outputs": [],
   "source": []
  }
 ],
 "metadata": {
  "kernelspec": {
   "display_name": "Python 3.11.0 64-bit",
   "language": "python",
   "name": "python3"
  },
  "language_info": {
   "codemirror_mode": {
    "name": "ipython",
    "version": 3
   },
   "file_extension": ".py",
   "mimetype": "text/x-python",
   "name": "python",
   "nbconvert_exporter": "python",
   "pygments_lexer": "ipython3",
   "version": "3.11.0"
  },
  "orig_nbformat": 4,
  "vscode": {
   "interpreter": {
    "hash": "c261aea317cc0286b3b3261fbba9abdec21eaa57589985bb7a274bf54d6cc0a7"
   }
  }
 },
 "nbformat": 4,
 "nbformat_minor": 2
}
